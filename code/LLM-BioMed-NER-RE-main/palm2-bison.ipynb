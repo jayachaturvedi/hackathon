{
 "cells": [
  {
   "cell_type": "code",
   "execution_count": 45,
   "metadata": {},
   "outputs": [],
   "source": [
    "import time\n",
    "import pandas as pd\n",
    "\n",
    "from tqdm import tqdm\n",
    "from google.cloud import aiplatform\n",
    "from sklearn.metrics import f1_score\n",
    "from vertexai.language_models import ChatModel, InputOutputTextPair\n",
    "from utils import html_parsing_ncbi, html_parsing_n2c2, get_classification_report, get_macro_average_f1\n",
    "\n",
    "aiplatform.init(project='xxx-xxxxxxx-xxxxxx')\n",
    "chat_model = ChatModel.from_pretrained(\"chat-bison@002\")"
   ]
  },
  {
   "cell_type": "markdown",
   "metadata": {},
   "source": [
    "**Note**: You will have to setup a project on Google Cloud that enables Vertex AI API, and replace `xxx-xxxxxxx-xxxxxx` with your own project ID. The free trial period of Google Cloud has limited quota for Vertex AI API for PaLM2 model Bison per minute (~60 calls per minute). If you encounter quota exceeded error, please try again after waiting for a minute and continue from where you left off."
   ]
  },
  {
   "cell_type": "markdown",
   "metadata": {},
   "source": [
    "# 1. NER (Named Entity Recognition)"
   ]
  },
  {
   "cell_type": "markdown",
   "metadata": {},
   "source": [
    "## 1.1 NCBI-Disease Dataset"
   ]
  },
  {
   "cell_type": "markdown",
   "metadata": {},
   "source": [
    "### 1.1.1 Inference"
   ]
  },
  {
   "cell_type": "code",
   "execution_count": 3,
   "metadata": {},
   "outputs": [],
   "source": [
    "ncbi_df = pd.read_csv('data/NER/NCBI-disease/test_200.csv')\n",
    "ncbi_example_df = pd.read_csv('data/NER/NCBI-disease/examples.csv')"
   ]
  },
  {
   "cell_type": "code",
   "execution_count": 10,
   "metadata": {},
   "outputs": [],
   "source": [
    "system_message = \"\"\"You are a helpful assistant to perform the following task.\n",
    "\"TASK: the task is to extract disease entities in a sentence.\"\n",
    "\"INPUT: the input is a sentence.\"\n",
    "\"OUTPUT: the output is an HTML that highlights all the disease entities in the sentence. The highlighting should only use HTML tags <span style=\\\"background-color: #FFFF00\\\"> and </span> and no other tags.\"\n",
    "\"\"\"\n",
    "def get_ner_ncbi_disease(sentence: str, shot: int = 0) -> str:\n",
    "    \"\"\"\n",
    "    Get NER result from NCBI-disease dataset given a sentence and number of examples\n",
    "    Args:\n",
    "        sentence: input sentence\n",
    "        shot: number of examples\n",
    "    Returns:\n",
    "        response: NER result\n",
    "    \"\"\"\n",
    "\n",
    "    parameters = {\n",
    "        \"temperature\": 0.0,\n",
    "        \"max_output_tokens\": 2048,\n",
    "        \"top_p\": 0.95,\n",
    "        \"top_k\": 1,\n",
    "    }\n",
    "    \n",
    "    examples = []\n",
    "    for i in range(shot):\n",
    "        examples.append(\n",
    "            InputOutputTextPair(\n",
    "                input_text=ncbi_example_df['text'][i],\n",
    "                output_text=ncbi_example_df['label_text'][i],\n",
    "            )\n",
    "        )\n",
    "\n",
    "    chat = chat_model.start_chat(\n",
    "        context=system_message,\n",
    "        examples=examples,\n",
    "    )\n",
    "\n",
    "    time_start = time.time()\n",
    "    response = chat.send_message(\n",
    "        sentence, **parameters\n",
    "    )\n",
    "    time_end = time.time()\n",
    "\n",
    "    return response.text, time_end - time_start"
   ]
  },
  {
   "cell_type": "code",
   "execution_count": null,
   "metadata": {},
   "outputs": [],
   "source": [
    "for i in tqdm(range(0, len(ncbi_df), 1)):\n",
    "    if (i + 1) % 15 == 0: # PaLM2 has a quota limit\n",
    "        time.sleep(65)\n",
    "    ncbi_df.loc[i, 'html_palm2_one_shot'], ncbi_df.loc[i, 'palm2_one_shot_time'] = get_ner_ncbi_disease(ncbi_df.loc[i, 'text'], 1)\n",
    "    ncbi_df.loc[i, 'html_palm2_five_shot'], ncbi_df.loc[i, 'palm2_five_shot_time'] = get_ner_ncbi_disease(ncbi_df.loc[i, 'text'], 5)\n",
    "    ncbi_df.loc[i, 'html_palm2_ten_shot'], ncbi_df.loc[i, 'palm2_ten_shot_time'] = get_ner_ncbi_disease(ncbi_df.loc[i, 'text'], 10)\n",
    "    ncbi_df.loc[i, 'html_palm2_twenty_shot'], ncbi_df.loc[i, 'palm2_twenty_shot_time'] = get_ner_ncbi_disease(ncbi_df.loc[i, 'text'], 20)"
   ]
  },
  {
   "cell_type": "code",
   "execution_count": 15,
   "metadata": {},
   "outputs": [],
   "source": [
    "# drop 89th prediction because Gemini is not able to predict it due to safety filter\n",
    "ncbi_df.drop([89], inplace=True)"
   ]
  },
  {
   "cell_type": "markdown",
   "metadata": {},
   "source": [
    "### 1.1.2 Evaluation"
   ]
  },
  {
   "cell_type": "code",
   "execution_count": null,
   "metadata": {},
   "outputs": [],
   "source": [
    "# Optional: you can just load the llm output from the csv file instead of running the above code\n",
    "# ncbi_df = pd.read_csv(\"data/NER/NCBI-disease/test_200_palm2_bison_results.csv\")"
   ]
  },
  {
   "cell_type": "code",
   "execution_count": 16,
   "metadata": {},
   "outputs": [],
   "source": [
    "ncbi_df['gt_labels'], ncbi_df['palm2_one_shot_labels'] = html_parsing_ncbi(ncbi_df, 'html_palm2_one_shot')\n",
    "_, ncbi_df['palm2_five_shot_labels'] = html_parsing_ncbi(ncbi_df, 'html_palm2_five_shot')\n",
    "_, ncbi_df['palm2_ten_shot_labels'] = html_parsing_ncbi(ncbi_df, 'html_palm2_ten_shot')\n",
    "_, ncbi_df['palm2_twenty_shot_labels'] = html_parsing_ncbi(ncbi_df, 'html_palm2_twenty_shot')"
   ]
  },
  {
   "cell_type": "code",
   "execution_count": 21,
   "metadata": {},
   "outputs": [
    {
     "name": "stdout",
     "output_type": "stream",
     "text": [
      "F1 Score One Shot (Strict): 0.5778275475923852\n",
      "F1 Score Five Shot (Strict): 0.596888260254597\n",
      "F1 Score Ten Shot (Strict): 0.601156069364162\n",
      "F1 Score Twenty Shot (Strict): 0.6402116402116402\n"
     ]
    }
   ],
   "source": [
    "print(f\"F1 Score One Shot (Strict): {get_classification_report(ncbi_df, 'gt_labels', 'palm2_one_shot_labels', 'strict')['default']['f1-score']}\")\n",
    "print(f\"F1 Score Five Shot (Strict): {get_classification_report(ncbi_df, 'gt_labels', 'palm2_five_shot_labels', 'strict')['default']['f1-score']}\")\n",
    "print(f\"F1 Score Ten Shot (Strict): {get_classification_report(ncbi_df, 'gt_labels', 'palm2_ten_shot_labels', 'strict')['default']['f1-score']}\")\n",
    "print(f\"F1 Score Twenty Shot (Strict): {get_classification_report(ncbi_df, 'gt_labels', 'palm2_twenty_shot_labels', 'strict')['default']['f1-score']}\")"
   ]
  },
  {
   "cell_type": "code",
   "execution_count": 22,
   "metadata": {},
   "outputs": [
    {
     "name": "stdout",
     "output_type": "stream",
     "text": [
      "F1 Score One Shot (Lenient): 0.6920492721164613\n",
      "F1 Score Five Shot (Lenient): 0.6789250353606789\n",
      "F1 Score Ten Shot (Lenient): 0.7023121387283238\n",
      "F1 Score Twenty Shot (Lenient): 0.7566137566137566\n"
     ]
    }
   ],
   "source": [
    "print(f\"F1 Score One Shot (Lenient): {get_classification_report(ncbi_df, 'gt_labels', 'palm2_one_shot_labels', 'lenient')['default']['f1-score']}\")\n",
    "print(f\"F1 Score Five Shot (Lenient): {get_classification_report(ncbi_df, 'gt_labels', 'palm2_five_shot_labels', 'lenient')['default']['f1-score']}\")\n",
    "print(f\"F1 Score Ten Shot (Lenient): {get_classification_report(ncbi_df, 'gt_labels', 'palm2_ten_shot_labels', 'lenient')['default']['f1-score']}\")\n",
    "print(f\"F1 Score Twenty Shot (Lenient): {get_classification_report(ncbi_df, 'gt_labels', 'palm2_twenty_shot_labels', 'lenient')['default']['f1-score']}\")"
   ]
  },
  {
   "cell_type": "code",
   "execution_count": 23,
   "metadata": {},
   "outputs": [
    {
     "name": "stdout",
     "output_type": "stream",
     "text": [
      "Average PaLM 2 one-shot prediction time: 1.27 seconds\n",
      "Average PaLM 2 five-shot prediction time: 1.14 seconds\n",
      "Average PaLM 2 ten-shot prediction time: 1.23 seconds\n",
      "Average PaLM 2 twenty-shot prediction time: 1.54 seconds\n"
     ]
    }
   ],
   "source": [
    "print(f\"Average PaLM 2 one-shot prediction time: {ncbi_df['palm2_one_shot_time'].mean():.2f} seconds\")\n",
    "print(f\"Average PaLM 2 five-shot prediction time: {ncbi_df['palm2_five_shot_time'].mean():.2f} seconds\")\n",
    "print(f\"Average PaLM 2 ten-shot prediction time: {ncbi_df['palm2_ten_shot_time'].mean():.2f} seconds\")\n",
    "print(f\"Average PaLM 2 twenty-shot prediction time: {ncbi_df['palm2_twenty_shot_time'].mean():.2f} seconds\")"
   ]
  },
  {
   "cell_type": "code",
   "execution_count": 24,
   "metadata": {},
   "outputs": [],
   "source": [
    "# save the inference results\n",
    "ncbi_df.to_csv('data/NER/NCBI-disease/test_200_palm2_bison_results.csv', index=False)"
   ]
  },
  {
   "cell_type": "markdown",
   "metadata": {},
   "source": [
    "# 1.2 2018 n2c2 Dataset"
   ]
  },
  {
   "cell_type": "markdown",
   "metadata": {},
   "source": [
    "### 1.2.1 Inference"
   ]
  },
  {
   "cell_type": "code",
   "execution_count": 26,
   "metadata": {},
   "outputs": [],
   "source": [
    "n2c2_df = pd.read_csv('data/NER/2018_n2c2/test_200.csv')\n",
    "n2c2_example_df = pd.read_csv('data/NER/2018_n2c2/examples.csv')"
   ]
  },
  {
   "cell_type": "code",
   "execution_count": 27,
   "metadata": {},
   "outputs": [],
   "source": [
    "system_message = \"\"\"You are a helpful assistant to perform the following task.\n",
    "\"TASK: the task is to extract disease entities in a sentence. The entity type includes Form, Route, Frequency, Dosage, Strength, Duration, Reason, Ade, Drug.\"\n",
    "\"INPUT: the input is a sentence.\"\n",
    "\"OUTPUT: the output is an HTML that highlights all the disease entities in the sentence in different colors: Form(#FF0000), Route(#FFA500), Frequency(#FFFF00), Dosage(#00FF00), Strength(#0000FF), Duration(#800080), Reason(#FFC0CB), Ade(#964B00), Drug(#808080) in hex code. \\\n",
    "         The highlighting should only use HTML tags <span style=\\\"background-color: #XXXXXX\\\"> and </span> and no other tags.\"\n",
    "\"\"\"\n",
    "def get_ner_2018_n2c2(sentence: str, shot: int = 0) -> str:\n",
    "    \"\"\"\n",
    "    Get NER result from 2018 n2c2 dataset given a sentence and number of examples\n",
    "    Args:\n",
    "        sentence: input sentence\n",
    "        shot: number of examples\n",
    "    Returns:\n",
    "        response: NER result\n",
    "    \"\"\"\n",
    "\n",
    "    parameters = {\n",
    "        \"temperature\": 0.0,\n",
    "        \"max_output_tokens\": 2048,\n",
    "        \"top_p\": 0.95,\n",
    "        \"top_k\": 1,\n",
    "    }\n",
    "    \n",
    "    examples = []\n",
    "    for i in range(shot):\n",
    "        examples.append(\n",
    "            InputOutputTextPair(\n",
    "                input_text=n2c2_example_df['text'][i],\n",
    "                output_text=n2c2_example_df['label_text'][i],\n",
    "            )\n",
    "        )\n",
    "\n",
    "    chat = chat_model.start_chat(\n",
    "        context=system_message,\n",
    "        examples=examples,\n",
    "    )\n",
    "\n",
    "    time_start = time.time()\n",
    "    response = chat.send_message(\n",
    "        sentence, **parameters\n",
    "    )\n",
    "    time_end = time.time()\n",
    "\n",
    "    return response.text, time_end - time_start"
   ]
  },
  {
   "cell_type": "code",
   "execution_count": null,
   "metadata": {},
   "outputs": [],
   "source": [
    "for i in tqdm(range(0, len(n2c2_df), 1)):\n",
    "    if (i + 1) % 15 == 0: # PaLM2 has a quota limit\n",
    "        time.sleep(65)\n",
    "    n2c2_df.loc[i, 'html_palm2_one_shot'], n2c2_df.loc[i, 'palm2_one_shot_time'] = get_ner_2018_n2c2(n2c2_df.loc[i, 'text'], 1)\n",
    "    n2c2_df.loc[i, 'html_palm2_five_shot'], n2c2_df.loc[i, 'palm2_five_shot_time'] = get_ner_2018_n2c2(n2c2_df.loc[i, 'text'], 5)\n",
    "    n2c2_df.loc[i, 'html_palm2_ten_shot'], n2c2_df.loc[i, 'palm2_ten_shot_time'] = get_ner_2018_n2c2(n2c2_df.loc[i, 'text'], 10)\n",
    "    n2c2_df.loc[i, 'html_palm2_twenty_shot'], n2c2_df.loc[i, 'palm2_twenty_shot_time'] = get_ner_2018_n2c2(n2c2_df.loc[i, 'text'], 20)"
   ]
  },
  {
   "cell_type": "markdown",
   "metadata": {},
   "source": [
    "### 1.2.2 Evaluation"
   ]
  },
  {
   "cell_type": "code",
   "execution_count": 29,
   "metadata": {},
   "outputs": [],
   "source": [
    "# Optional: you can just load the llm output from the csv file instead of running the above code\n",
    "# n2c2_df = pd.read_csv(\"data/NER/2018_n2c2/test_200_palm2_bison_results.csv\")"
   ]
  },
  {
   "cell_type": "code",
   "execution_count": 30,
   "metadata": {},
   "outputs": [],
   "source": [
    "n2c2_df['gt_labels'], n2c2_df['palm2_one_shot_labels'] = html_parsing_n2c2(n2c2_df, 'html_palm2_one_shot')\n",
    "_, n2c2_df['palm2_five_shot_labels'] = html_parsing_n2c2(n2c2_df, 'html_palm2_five_shot')\n",
    "_, n2c2_df['palm2_ten_shot_labels'] = html_parsing_n2c2(n2c2_df, 'html_palm2_ten_shot')\n",
    "_, n2c2_df['palm2_twenty_shot_labels'] = html_parsing_n2c2(n2c2_df, 'html_palm2_twenty_shot')"
   ]
  },
  {
   "cell_type": "code",
   "execution_count": 33,
   "metadata": {},
   "outputs": [
    {
     "name": "stdout",
     "output_type": "stream",
     "text": [
      "F1 Score One Shot (Strict): 0.2483551418438149\n",
      "F1 Score Five Shot (Strict): 0.4415615290491005\n",
      "F1 Score Ten Shot (Strict): 0.5191967371610239\n",
      "F1 Score Twenty Shot (Strict): 0.5447600480768185\n"
     ]
    }
   ],
   "source": [
    "print(f\"F1 Score One Shot (Strict): {get_macro_average_f1(get_classification_report(n2c2_df, 'gt_labels', 'palm2_one_shot_labels', 'strict'))}\")\n",
    "print(f\"F1 Score Five Shot (Strict): {get_macro_average_f1(get_classification_report(n2c2_df, 'gt_labels', 'palm2_five_shot_labels', 'strict'))}\")\n",
    "print(f\"F1 Score Ten Shot (Strict): {get_macro_average_f1(get_classification_report(n2c2_df, 'gt_labels', 'palm2_ten_shot_labels', 'strict'))}\")\n",
    "print(f\"F1 Score Twenty Shot (Strict): {get_macro_average_f1(get_classification_report(n2c2_df, 'gt_labels', 'palm2_twenty_shot_labels', 'strict'))}\")"
   ]
  },
  {
   "cell_type": "code",
   "execution_count": 34,
   "metadata": {},
   "outputs": [
    {
     "name": "stdout",
     "output_type": "stream",
     "text": [
      "F1 Score One Shot (Lenient): 0.38963457779104854\n",
      "F1 Score Five Shot (Lenient): 0.5801350723986359\n",
      "F1 Score Ten Shot (Lenient): 0.6524081629707195\n",
      "F1 Score Twenty Shot (Lenient): 0.6531610078079909\n"
     ]
    }
   ],
   "source": [
    "print(f\"F1 Score One Shot (Lenient): {get_macro_average_f1(get_classification_report(n2c2_df, 'gt_labels', 'palm2_one_shot_labels', 'lenient'))}\")\n",
    "print(f\"F1 Score Five Shot (Lenient): {get_macro_average_f1(get_classification_report(n2c2_df, 'gt_labels', 'palm2_five_shot_labels', 'lenient'))}\")\n",
    "print(f\"F1 Score Ten Shot (Lenient): {get_macro_average_f1(get_classification_report(n2c2_df, 'gt_labels', 'palm2_ten_shot_labels', 'lenient'))}\")\n",
    "print(f\"F1 Score Twenty Shot (Lenient): {get_macro_average_f1(get_classification_report(n2c2_df, 'gt_labels', 'palm2_twenty_shot_labels', 'lenient'))}\")"
   ]
  },
  {
   "cell_type": "code",
   "execution_count": 35,
   "metadata": {},
   "outputs": [
    {
     "name": "stdout",
     "output_type": "stream",
     "text": [
      "Average PaLM 2 one-shot prediction time: 1.65 seconds\n",
      "Average PaLM 2 five-shot prediction time: 2.20 seconds\n",
      "Average PaLM 2 ten-shot prediction time: 2.06 seconds\n",
      "Average PaLM 2 twenty-shot prediction time: 2.91 seconds\n"
     ]
    }
   ],
   "source": [
    "print(f\"Average PaLM 2 one-shot prediction time: {n2c2_df['palm2_one_shot_time'].mean():.2f} seconds\")\n",
    "print(f\"Average PaLM 2 five-shot prediction time: {n2c2_df['palm2_five_shot_time'].mean():.2f} seconds\")\n",
    "print(f\"Average PaLM 2 ten-shot prediction time: {n2c2_df['palm2_ten_shot_time'].mean():.2f} seconds\")\n",
    "print(f\"Average PaLM 2 twenty-shot prediction time: {n2c2_df['palm2_twenty_shot_time'].mean():.2f} seconds\")"
   ]
  },
  {
   "cell_type": "code",
   "execution_count": 36,
   "metadata": {},
   "outputs": [],
   "source": [
    "# save the inference results\n",
    "n2c2_df.to_csv('data/NER/2018_n2c2/test_200_palm2_bison_results.csv', index=False)"
   ]
  },
  {
   "cell_type": "markdown",
   "metadata": {},
   "source": [
    "# 2. RE (Relation Extraction)"
   ]
  },
  {
   "cell_type": "markdown",
   "metadata": {},
   "source": [
    "## 2.1 2018 n2c2 Dataset"
   ]
  },
  {
   "cell_type": "markdown",
   "metadata": {},
   "source": [
    "### 2.1.1 Infernece"
   ]
  },
  {
   "cell_type": "code",
   "execution_count": 38,
   "metadata": {},
   "outputs": [],
   "source": [
    "n2c2_df = pd.read_csv('data/RE/2018_n2c2/test_200.csv')\n",
    "n2c2_example_df = pd.read_csv('data/RE/2018_n2c2/examples.csv')"
   ]
  },
  {
   "cell_type": "code",
   "execution_count": 39,
   "metadata": {},
   "outputs": [],
   "source": [
    "system_message = \"\"\"You are a helpful assistant to perform the following task.\n",
    "\"TASK: the task is to classify relations for a sentence.\"\n",
    "\"INPUT: the input is a sentence where the entities are labeled within [E${X}] and [E${X}/] in a sentence, where X is an integer representing an unique entity.\"\n",
    "\"OUTPUT: your task is to select one out of the nine types of relations ('STRENGTH-DRUG', 'ROUTE-DRUG', 'FREQUENCY-DRUG', 'FORM-DRUG', 'DOSAGE-DRUG', 'REASON-DRUG', 'DURATION-DRUG', 'ADE-DRUG', and 'No relation').\"\n",
    "\"\"\"\n",
    "def get_re_2018_n2c2(sentence: str, shot: int = 0) -> str:\n",
    "    \"\"\"\n",
    "    Get RE result from 2018 n2c2 dataset given a sentence and number of examples\n",
    "    Args:\n",
    "        sentence: input sentence\n",
    "        shot: number of examples\n",
    "    Returns:\n",
    "        response: RE result\n",
    "    \"\"\"\n",
    "\n",
    "    parameters = {\n",
    "        \"temperature\": 0.0,\n",
    "        \"max_output_tokens\": 2048,\n",
    "        \"top_p\": 0.95,\n",
    "        \"top_k\": 1,\n",
    "    }\n",
    "    \n",
    "    examples = []\n",
    "    for i in range(shot):\n",
    "        examples.append(\n",
    "            InputOutputTextPair(\n",
    "                input_text=n2c2_example_df['text'][i],\n",
    "                output_text=n2c2_example_df['labels'][i],\n",
    "            )\n",
    "        )\n",
    "\n",
    "    chat = chat_model.start_chat(\n",
    "        context=system_message,\n",
    "        examples=examples,\n",
    "    )\n",
    "\n",
    "    time_start = time.time()\n",
    "    response = chat.send_message(\n",
    "        sentence, **parameters\n",
    "    )\n",
    "    time_end = time.time()\n",
    "\n",
    "    return response.text, time_end - time_start"
   ]
  },
  {
   "cell_type": "code",
   "execution_count": null,
   "metadata": {},
   "outputs": [],
   "source": [
    "for i in tqdm(range(0, len(n2c2_df), 1)):\n",
    "    if (i + 1) % 15 == 0: # PaLM2 has a quota limit\n",
    "        time.sleep(65)\n",
    "    n2c2_df.loc[i, 'palm2_one_shot'], n2c2_df.loc[i, 'palm2_one_shot_time'] = get_re_2018_n2c2(n2c2_df.iloc[i]['text'], 1)\n",
    "    n2c2_df.loc[i, 'palm2_five_shot'], n2c2_df.loc[i, 'palm2_five_shot_time'] = get_re_2018_n2c2(n2c2_df.iloc[i]['text'], 5)\n",
    "    n2c2_df.loc[i, 'palm2_ten_shot'], n2c2_df.loc[i, 'palm2_ten_shot_time'] = get_re_2018_n2c2(n2c2_df.iloc[i]['text'], 10)\n",
    "    n2c2_df.loc[i, 'palm2_twenty_shot'], n2c2_df.loc[i, 'palm2_twenty_shot_time'] = get_re_2018_n2c2(n2c2_df.iloc[i]['text'], 20)"
   ]
  },
  {
   "cell_type": "markdown",
   "metadata": {},
   "source": [
    "### 2.1.2 Evaluation"
   ]
  },
  {
   "cell_type": "code",
   "execution_count": 43,
   "metadata": {},
   "outputs": [],
   "source": [
    "# get rid of ' ' if any\n",
    "n2c2_df['palm2_one_shot'] = n2c2_df['palm2_one_shot'].apply(lambda x: x[1:-1] if \"'\" in x else x)\n",
    "n2c2_df['palm2_five_shot'] = n2c2_df['palm2_five_shot'].apply(lambda x: x[1:-1] if \"'\" in x else x)\n",
    "n2c2_df['palm2_ten_shot'] = n2c2_df['palm2_ten_shot'].apply(lambda x: x[1:-1] if \"'\" in x else x)\n",
    "n2c2_df['palm2_twenty_shot'] = n2c2_df['palm2_twenty_shot'].apply(lambda x: x[1:-1] if \"'\" in x else x)"
   ]
  },
  {
   "cell_type": "code",
   "execution_count": 70,
   "metadata": {},
   "outputs": [],
   "source": [
    "label2digit = {\n",
    "    'No relation': 0,\n",
    "    'STRENGTH-DRUG': 1,\n",
    "    'ROUTE-DRUG': 2,\n",
    "    'FREQUENCY-DRUG': 3,\n",
    "    'FORM-DRUG': 4,\n",
    "    'DOSAGE-DRUG': 5,\n",
    "    'REASON-DRUG': 6,\n",
    "    'DURATION-DRUG': 7,\n",
    "    'ADE-DRUG': 8\n",
    "}\n",
    "def get_digit(x):\n",
    "    for k, v in label2digit.items():\n",
    "        if k in x:\n",
    "            return v\n",
    "    return 0"
   ]
  },
  {
   "cell_type": "code",
   "execution_count": 71,
   "metadata": {},
   "outputs": [],
   "source": [
    "# get digit label while considering failed LLM outputs as 'No relation'\n",
    "n2c2_df['labels'] = n2c2_df['labels'].apply(get_digit)\n",
    "n2c2_df['palm2_one_shot_labels'] = n2c2_df['palm2_one_shot'].apply(get_digit)\n",
    "n2c2_df['palm2_five_shot_labels'] = n2c2_df['palm2_five_shot'].apply(get_digit)\n",
    "n2c2_df['palm2_ten_shot_labels'] = n2c2_df['palm2_ten_shot'].apply(get_digit)\n",
    "n2c2_df['palm2_twenty_shot_labels'] = n2c2_df['palm2_twenty_shot'].apply(get_digit)"
   ]
  },
  {
   "cell_type": "code",
   "execution_count": null,
   "metadata": {},
   "outputs": [],
   "source": [
    "# Optional: you can just load the llm output from the csv file instead of running the above code\n",
    "# n2c2_df = pd.read_csv(\"data/RE/2018_n2c2/test_200_palm2_bison_results.csv\")"
   ]
  },
  {
   "cell_type": "code",
   "execution_count": 73,
   "metadata": {},
   "outputs": [
    {
     "name": "stdout",
     "output_type": "stream",
     "text": [
      "F1 Score One Shot: 0.30078351625254\n",
      "F1 Score Five Shot: 0.3186707818930041\n",
      "F1 Score Ten Shot: 0.40771004467502525\n",
      "F1 Score Twenty Shot: 0.3189666977902272\n"
     ]
    }
   ],
   "source": [
    "y_true = n2c2_df['labels'].tolist()\n",
    "y_pred = n2c2_df['palm2_one_shot_labels'].tolist()\n",
    "print(f\"F1 Score One Shot: {f1_score(y_true, y_pred, average='macro')}\")\n",
    "y_pred = n2c2_df['palm2_five_shot_labels'].tolist()\n",
    "print(f\"F1 Score Five Shot: {f1_score(y_true, y_pred, average='macro')}\")\n",
    "y_pred = n2c2_df['palm2_ten_shot_labels'].tolist()\n",
    "print(f\"F1 Score Ten Shot: {f1_score(y_true, y_pred, average='macro')}\")\n",
    "y_pred = n2c2_df['palm2_twenty_shot_labels'].tolist()\n",
    "print(f\"F1 Score Twenty Shot: {f1_score(y_true, y_pred, average='macro')}\")"
   ]
  },
  {
   "cell_type": "code",
   "execution_count": 74,
   "metadata": {},
   "outputs": [
    {
     "name": "stdout",
     "output_type": "stream",
     "text": [
      "Average PaLM 2 one-shot prediction time: 0.41 seconds\n",
      "Average PaLM 2 five-shot prediction time: 0.46 seconds\n",
      "Average PaLM 2 ten-shot prediction time: 0.48 seconds\n",
      "Average PaLM 2 twenty-shot prediction time: 0.56 seconds\n"
     ]
    }
   ],
   "source": [
    "print(f\"Average PaLM 2 one-shot prediction time: {n2c2_df['palm2_one_shot_time'].mean():.2f} seconds\")\n",
    "print(f\"Average PaLM 2 five-shot prediction time: {n2c2_df['palm2_five_shot_time'].mean():.2f} seconds\")\n",
    "print(f\"Average PaLM 2 ten-shot prediction time: {n2c2_df['palm2_ten_shot_time'].mean():.2f} seconds\")\n",
    "print(f\"Average PaLM 2 twenty-shot prediction time: {n2c2_df['palm2_twenty_shot_time'].mean():.2f} seconds\")"
   ]
  },
  {
   "cell_type": "code",
   "execution_count": 75,
   "metadata": {},
   "outputs": [],
   "source": [
    "# save the inference results\n",
    "n2c2_df.to_csv('data/RE/2018_n2c2/test_200_palm2_bison_results.csv', index=False)"
   ]
  },
  {
   "cell_type": "markdown",
   "metadata": {},
   "source": [
    "## 2.2 GAD"
   ]
  },
  {
   "cell_type": "markdown",
   "metadata": {},
   "source": [
    "### 2.2.1 Inference"
   ]
  },
  {
   "cell_type": "code",
   "execution_count": 88,
   "metadata": {},
   "outputs": [],
   "source": [
    "gad_df = pd.read_csv('data/RE/GAD/test_200.csv')\n",
    "gad_example_df = pd.read_csv('data/RE/GAD/examples.csv')"
   ]
  },
  {
   "cell_type": "code",
   "execution_count": 104,
   "metadata": {},
   "outputs": [],
   "source": [
    "system_message = \"\"\"You are a helpful assistant to perform the following task.\n",
    "\"TASK: the task is to classify relations between a disease and a gene for a sentence.\"\n",
    "\"INPUT: the input is a sentence where the disease is labeled as @DISEASE$ and the gene is labeled as @GENE$ accordingly in a sentence. \"\n",
    "\"OUTPUT: your task is to select one out of the two types of relations (0 and 1) for the gene and disease without any explanation or other characters: \n",
    "        0, no relations \n",
    "        1, has relations\"\n",
    "\"\"\"\n",
    "def get_re_gad(sentence: str, shot: int = 0) -> str:\n",
    "    \"\"\"\n",
    "    Get RE result from GAD dataset given a sentence and number of examples\n",
    "    Args:\n",
    "        sentence: input sentence\n",
    "        shot: number of examples\n",
    "    Returns:\n",
    "        response: RE result\n",
    "    \"\"\"\n",
    "\n",
    "    parameters = {\n",
    "        \"temperature\": 0.0,\n",
    "        \"max_output_tokens\": 2048,\n",
    "        \"top_p\": 0.95,\n",
    "        \"top_k\": 1,\n",
    "    }\n",
    "    \n",
    "    examples = []\n",
    "    for i in range(shot):\n",
    "        examples.append(\n",
    "            InputOutputTextPair(\n",
    "                input_text=gad_example_df['text'][i],\n",
    "                output_text=str(gad_example_df['labels'][i]),\n",
    "            )\n",
    "        )\n",
    "\n",
    "    chat = chat_model.start_chat(\n",
    "        context=system_message,\n",
    "        examples=examples,\n",
    "    )\n",
    "\n",
    "    time_start = time.time()\n",
    "    response = chat.send_message(\n",
    "        sentence, **parameters\n",
    "    )\n",
    "    time_end = time.time()\n",
    "\n",
    "    return response.text, time_end - time_start"
   ]
  },
  {
   "cell_type": "code",
   "execution_count": null,
   "metadata": {},
   "outputs": [],
   "source": [
    "for i in tqdm(range(0, len(gad_df), 1)):\n",
    "    if (i + 1) % 15 == 0: # PaLM2 has a quota limit\n",
    "        time.sleep(65)\n",
    "    gad_df.loc[i, 'palm2_one_shot'], gad_df.loc[i, 'palm2_one_shot_time'] = get_re_gad(gad_df.iloc[i]['text'], 1)\n",
    "    gad_df.loc[i, 'palm2_five_shot'], gad_df.loc[i, 'palm2_five_shot_time'] = get_re_gad(gad_df.iloc[i]['text'], 5)\n",
    "    gad_df.loc[i, 'palm2_ten_shot'], gad_df.loc[i, 'palm2_ten_shot_time'] = get_re_gad(gad_df.iloc[i]['text'], 10)\n",
    "    gad_df.loc[i, 'palm2_twenty_shot'], gad_df.loc[i, 'palm2_twenty_shot_time'] = get_re_gad(gad_df.iloc[i]['text'], 20)"
   ]
  },
  {
   "cell_type": "markdown",
   "metadata": {},
   "source": [
    "### 2.2.2 Evaluation"
   ]
  },
  {
   "cell_type": "code",
   "execution_count": 125,
   "metadata": {},
   "outputs": [],
   "source": [
    "# convert some strings to int while considering failed LLM outputs as 'No relation (0)'\n",
    "gad_df['palm2_one_shot_label'] = gad_df['palm2_one_shot'].apply(lambda x: int(x[1:]) if x[1:].isdigit() else 0)\n",
    "gad_df['palm2_five_shot_label'] = gad_df['palm2_five_shot'].apply(lambda x: int(x[1:]) if x[1:].isdigit() else 0)\n",
    "gad_df['palm2_ten_shot_label'] = gad_df['palm2_ten_shot'].apply(lambda x: int(x[1:]) if x[1:].isdigit() else 0)\n",
    "gad_df['palm2_twenty_shot_label'] = gad_df['palm2_twenty_shot'].apply(lambda x: int(x[1:]) if x[1:].isdigit() else 0)"
   ]
  },
  {
   "cell_type": "code",
   "execution_count": null,
   "metadata": {},
   "outputs": [],
   "source": [
    "# Optional: you can just load the llm output from the csv file instead of running the above code\n",
    "# gad_df = pd.read_csv(\"data/RE/GAD/test_200_palm2_bison_results.csv\")"
   ]
  },
  {
   "cell_type": "code",
   "execution_count": 127,
   "metadata": {},
   "outputs": [
    {
     "name": "stdout",
     "output_type": "stream",
     "text": [
      "F1 Score One Shot: 0.4542477715117337\n",
      "F1 Score Five Shot: 0.4480980012894906\n",
      "F1 Score Ten Shot: 0.4563951230876757\n",
      "F1 Score Twenty Shot: 0.46872985170857506\n"
     ]
    }
   ],
   "source": [
    "y_true = gad_df['labels'].tolist()\n",
    "y_pred = gad_df['palm2_one_shot_label'].tolist()\n",
    "print(f\"F1 Score One Shot: {f1_score(y_true, y_pred, average='macro')}\")\n",
    "y_pred = gad_df['palm2_five_shot_label'].tolist()\n",
    "print(f\"F1 Score Five Shot: {f1_score(y_true, y_pred, average='macro')}\")\n",
    "y_pred = gad_df['palm2_ten_shot_label'].tolist()\n",
    "print(f\"F1 Score Ten Shot: {f1_score(y_true, y_pred, average='macro')}\")\n",
    "y_pred = gad_df['palm2_twenty_shot_label'].tolist()\n",
    "print(f\"F1 Score Twenty Shot: {f1_score(y_true, y_pred, average='macro')}\")"
   ]
  },
  {
   "cell_type": "code",
   "execution_count": 129,
   "metadata": {},
   "outputs": [
    {
     "name": "stdout",
     "output_type": "stream",
     "text": [
      "Average PaLM 2 one-shot prediction time: 0.41 seconds\n",
      "Average PaLM 2 five-shot prediction time: 0.40 seconds\n",
      "Average PaLM 2 ten-shot prediction time: 0.46 seconds\n",
      "Average PaLM 2 twenty-shot prediction time: 0.54 seconds\n"
     ]
    }
   ],
   "source": [
    "print(f\"Average PaLM 2 one-shot prediction time: {gad_df['palm2_one_shot_time'].mean():.2f} seconds\")\n",
    "print(f\"Average PaLM 2 five-shot prediction time: {gad_df['palm2_five_shot_time'].mean():.2f} seconds\")\n",
    "print(f\"Average PaLM 2 ten-shot prediction time: {gad_df['palm2_ten_shot_time'].mean():.2f} seconds\")\n",
    "print(f\"Average PaLM 2 twenty-shot prediction time: {gad_df['palm2_twenty_shot_time'].mean():.2f} seconds\")"
   ]
  },
  {
   "cell_type": "code",
   "execution_count": 130,
   "metadata": {},
   "outputs": [],
   "source": [
    "# save the inference results\n",
    "gad_df.to_csv('data/RE/GAD/test_200_palm2_bison_results.csv', index=False)"
   ]
  }
 ],
 "metadata": {
  "kernelspec": {
   "display_name": "base",
   "language": "python",
   "name": "python3"
  },
  "language_info": {
   "codemirror_mode": {
    "name": "ipython",
    "version": 3
   },
   "file_extension": ".py",
   "mimetype": "text/x-python",
   "name": "python",
   "nbconvert_exporter": "python",
   "pygments_lexer": "ipython3",
   "version": "3.10.9"
  }
 },
 "nbformat": 4,
 "nbformat_minor": 2
}
