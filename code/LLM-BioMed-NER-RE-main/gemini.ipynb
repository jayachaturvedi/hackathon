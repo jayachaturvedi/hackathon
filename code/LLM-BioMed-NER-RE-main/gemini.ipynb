{
 "cells": [
  {
   "cell_type": "code",
   "execution_count": 103,
   "metadata": {},
   "outputs": [],
   "source": [
    "import time\n",
    "import vertexai\n",
    "import pandas as pd\n",
    "\n",
    "from tqdm import tqdm\n",
    "from sklearn.metrics import f1_score\n",
    "from vertexai.preview.generative_models import GenerativeModel, GenerationConfig, Part, Content\n",
    "from google.cloud.aiplatform_v1beta1.types.content import SafetySetting\n",
    "from utils import html_parsing_ncbi, html_parsing_n2c2, get_classification_report, get_digit, get_macro_average_f1\n",
    "\n",
    "vertexai.init(project='xxx-xxxxxxx-xxxxxx') \n",
    "chat_model = GenerativeModel('gemini-pro')\n",
    "\n",
    "config = GenerationConfig(\n",
    "    temperature=0.0,\n",
    "    candidate_count=1,\n",
    "    top_p=0.95,\n",
    "    top_k=1,\n",
    "    max_output_tokens=4096,\n",
    ")\n",
    "\n",
    "safety_settings = [\n",
    "    SafetySetting({\n",
    "        \"category\": \"HARM_CATEGORY_UNSPECIFIED\",\n",
    "        \"threshold\": \"BLOCK_NONE\",\n",
    "    }),\n",
    "    SafetySetting({\n",
    "        \"category\": \"HARM_CATEGORY_HARASSMENT\",\n",
    "        \"threshold\": \"BLOCK_NONE\",\n",
    "    }),\n",
    "    SafetySetting({\n",
    "        \"category\": \"HARM_CATEGORY_HATE_SPEECH\",\n",
    "        \"threshold\": \"BLOCK_NONE\",\n",
    "    }),\n",
    "    SafetySetting({\n",
    "        \"category\": \"HARM_CATEGORY_SEXUALLY_EXPLICIT\",\n",
    "        \"threshold\": \"BLOCK_NONE\",\n",
    "    }),\n",
    "    SafetySetting({\n",
    "        \"category\": \"HARM_CATEGORY_DANGEROUS_CONTENT\",\n",
    "        \"threshold\": \"BLOCK_NONE\",\n",
    "    }),\n",
    "]"
   ]
  },
  {
   "cell_type": "markdown",
   "metadata": {},
   "source": [
    "# 1. NER (Named Entity Recognition)"
   ]
  },
  {
   "cell_type": "markdown",
   "metadata": {},
   "source": [
    "## 1.1 NCBI-Disease Dataset"
   ]
  },
  {
   "cell_type": "markdown",
   "metadata": {},
   "source": [
    "### 1.1.1 Inference"
   ]
  },
  {
   "cell_type": "code",
   "execution_count": 2,
   "metadata": {},
   "outputs": [],
   "source": [
    "ncbi_df = pd.read_csv('data/NER/NCBI-disease/test_200.csv')\n",
    "ncbi_example_df = pd.read_csv('data/NER/NCBI-disease/examples.csv')"
   ]
  },
  {
   "cell_type": "code",
   "execution_count": 35,
   "metadata": {},
   "outputs": [],
   "source": [
    "system_message = \"\"\"You are a helpful assistant to perform the following task.\n",
    "\"TASK: the task is to extract disease entities in a sentence.\"\n",
    "\"INPUT: the input is a sentence.\"\n",
    "\"OUTPUT: the output is an HTML that highlights all the disease entities in the sentence. The highlighting should only use HTML tags <span style=\\\"background-color: #FFFF00\\\"> and </span> and no other tags.\"\n",
    "\"\"\"\n",
    "\n",
    "def get_ner_ncbi_disease(sentence: str, shot: int = 0) -> str:\n",
    "    \"\"\"\n",
    "    Get the NER results of NCBI-disease dataset from few-shot prompting.\n",
    "    Args:\n",
    "        sentence: the input sentence\n",
    "        shot: the number of few-shot examples\n",
    "    Returns:\n",
    "        the NER results\n",
    "    \"\"\"\n",
    "\n",
    "    # system prompt\n",
    "    history = [\n",
    "        Content(role=\"user\", parts=[Part.from_text(system_message)]),\n",
    "        Content(role=\"model\", parts=[Part.from_text(\"Understood.\")])\n",
    "    ]\n",
    "    for i in range(shot):\n",
    "        history.extend([\n",
    "            Content(role=\"user\", parts=[Part.from_text(ncbi_example_df.iloc[i]['text'])]),\n",
    "            Content(role=\"model\", parts=[Part.from_text(ncbi_example_df.iloc[i]['label_text'])]) \n",
    "        ])\n",
    "\n",
    "    # Init a new chat session\n",
    "    chat = chat_model.start_chat(history=history)\n",
    "\n",
    "    time_start = time.time()\n",
    "    response = chat.send_message(\n",
    "        sentence,\n",
    "        generation_config=config,\n",
    "        safety_settings=safety_settings,\n",
    "        stream=False,\n",
    "    )\n",
    "    time_end = time.time()\n",
    "\n",
    "    return response.text, time_end - time_start"
   ]
  },
  {
   "cell_type": "code",
   "execution_count": null,
   "metadata": {},
   "outputs": [],
   "source": [
    "for i in tqdm(range(0, len(ncbi_df), 1)):\n",
    "    if (i + 1) % 15 == 0: # Gemini API has a quota limit\n",
    "        time.sleep(65)\n",
    "    ncbi_df.loc[i, 'html_gemini_pro_one_shot'], ncbi_df.loc[i, 'gemini_pro_one_shot_time'] = get_ner_ncbi_disease(ncbi_df.loc[i, 'text'], 1)\n",
    "    ncbi_df.loc[i, 'html_gemini_pro_five_shot'], ncbi_df.loc[i, 'gemini_pro_five_shot_time'] = get_ner_ncbi_disease(ncbi_df.loc[i, 'text'], 5)\n",
    "    ncbi_df.loc[i, 'html_gemini_pro_ten_shot'], ncbi_df.loc[i, 'gemini_pro_ten_shot_time'] = get_ner_ncbi_disease(ncbi_df.loc[i, 'text'], 10)\n",
    "    ncbi_df.loc[i, 'html_gemini_pro_twenty_shot'], ncbi_df.loc[i, 'gemini_pro_twenty_shot_time'] = get_ner_ncbi_disease(ncbi_df.loc[i, 'text'], 20)"
   ]
  },
  {
   "cell_type": "markdown",
   "metadata": {},
   "source": [
    "**Note**: The index `i==89` is dropped due to the safety setting of Gemini, resulting in blocked response."
   ]
  },
  {
   "cell_type": "code",
   "execution_count": null,
   "metadata": {},
   "outputs": [],
   "source": [
    "ncbi_df.dropna(inplace=True)"
   ]
  },
  {
   "cell_type": "markdown",
   "metadata": {},
   "source": [
    "### 1.1.2 Evaluation"
   ]
  },
  {
   "cell_type": "code",
   "execution_count": 51,
   "metadata": {},
   "outputs": [],
   "source": [
    "# Optional: you can just load the llm output from the csv file instead of running the above code\n",
    "# ncbi_df = pd.read_csv(\"data/NER/NCBI-disease/test_200_gemini_pro_results.csv\")"
   ]
  },
  {
   "cell_type": "code",
   "execution_count": 53,
   "metadata": {},
   "outputs": [],
   "source": [
    "ncbi_df['gt_labels'], ncbi_df['gemini_pro_one_shot_labels'] = html_parsing_ncbi(ncbi_df, 'html_gemini_pro_one_shot')\n",
    "_, ncbi_df['gemini_pro_five_shot_labels'] = html_parsing_ncbi(ncbi_df, 'html_gemini_pro_five_shot')\n",
    "_, ncbi_df['gemini_pro_ten_shot_labels'] = html_parsing_ncbi(ncbi_df, 'html_gemini_pro_ten_shot')\n",
    "_, ncbi_df['gemini_pro_twenty_shot_labels'] = html_parsing_ncbi(ncbi_df, 'html_gemini_pro_twenty_shot')"
   ]
  },
  {
   "cell_type": "code",
   "execution_count": 59,
   "metadata": {},
   "outputs": [
    {
     "name": "stdout",
     "output_type": "stream",
     "text": [
      "F1-Score One Shot (Strict): 0.5240083507306891\n",
      "F1-Score Five Shot (Strict): 0.5077881619937694\n",
      "F1-Score Ten Shot (Strict): 0.5686274509803921\n",
      "F1-Score Twenty Shot (Strict): 0.6544342507645259\n"
     ]
    }
   ],
   "source": [
    "print(f\"F1-Score One Shot (Strict): {get_classification_report(ncbi_df, 'gt_labels', 'gemini_pro_one_shot_labels', 'strict')['default']['f1-score']}\")\n",
    "print(f\"F1-Score Five Shot (Strict): {get_classification_report(ncbi_df, 'gt_labels', 'gemini_pro_five_shot_labels', 'strict')['default']['f1-score']}\")\n",
    "print(f\"F1-Score Ten Shot (Strict): {get_classification_report(ncbi_df, 'gt_labels', 'gemini_pro_ten_shot_labels', 'strict')['default']['f1-score']}\")\n",
    "print(f\"F1-Score Twenty Shot (Strict): {get_classification_report(ncbi_df, 'gt_labels', 'gemini_pro_twenty_shot_labels', 'strict')['default']['f1-score']}\")"
   ]
  },
  {
   "cell_type": "code",
   "execution_count": 60,
   "metadata": {},
   "outputs": [
    {
     "name": "stdout",
     "output_type": "stream",
     "text": [
      "F1-Score One Shot (Lenient): 0.6555323590814196\n",
      "F1-Score Five Shot (Lenient): 0.616822429906542\n",
      "F1-Score Ten Shot (Lenient): 0.6503267973856209\n",
      "F1-Score Twenty Shot (Lenient): 0.7798165137614678\n"
     ]
    }
   ],
   "source": [
    "print(f\"F1-Score One Shot (Lenient): {get_classification_report(ncbi_df, 'gt_labels', 'gemini_pro_one_shot_labels', 'lenient')['default']['f1-score']}\")\n",
    "print(f\"F1-Score Five Shot (Lenient): {get_classification_report(ncbi_df, 'gt_labels', 'gemini_pro_five_shot_labels', 'lenient')['default']['f1-score']}\")\n",
    "print(f\"F1-Score Ten Shot (Lenient): {get_classification_report(ncbi_df, 'gt_labels', 'gemini_pro_ten_shot_labels', 'lenient')['default']['f1-score']}\")\n",
    "print(f\"F1-Score Twenty Shot (Lenient): {get_classification_report(ncbi_df, 'gt_labels', 'gemini_pro_twenty_shot_labels', 'lenient')['default']['f1-score']}\")"
   ]
  },
  {
   "cell_type": "code",
   "execution_count": 61,
   "metadata": {},
   "outputs": [
    {
     "name": "stdout",
     "output_type": "stream",
     "text": [
      "Average Gemini Pro one-shot prediction time: 1.40 seconds\n",
      "Average Gemini Pro five-shot prediction time: 1.11 seconds\n",
      "Average Gemini Pro ten-shot prediction time: 1.19 seconds\n",
      "Average Gemini Pro twenty-shot prediction time: 1.27 seconds\n"
     ]
    }
   ],
   "source": [
    "print(f\"Average Gemini Pro one-shot prediction time: {ncbi_df['gemini_pro_one_shot_time'].mean():.2f} seconds\")\n",
    "print(f\"Average Gemini Pro five-shot prediction time: {ncbi_df['gemini_pro_five_shot_time'].mean():.2f} seconds\")\n",
    "print(f\"Average Gemini Pro ten-shot prediction time: {ncbi_df['gemini_pro_ten_shot_time'].mean():.2f} seconds\")\n",
    "print(f\"Average Gemini Pro twenty-shot prediction time: {ncbi_df['gemini_pro_twenty_shot_time'].mean():.2f} seconds\")"
   ]
  },
  {
   "cell_type": "code",
   "execution_count": 62,
   "metadata": {},
   "outputs": [],
   "source": [
    "# save the inference results\n",
    "ncbi_df.to_csv('data/NER/NCBI-disease/test_200_gemini_pro_results.csv', index=False)"
   ]
  },
  {
   "cell_type": "markdown",
   "metadata": {},
   "source": [
    "# 1.2 2018 n2c2 Dataset"
   ]
  },
  {
   "cell_type": "markdown",
   "metadata": {},
   "source": [
    "### 1.2.1 Inference"
   ]
  },
  {
   "cell_type": "code",
   "execution_count": 63,
   "metadata": {},
   "outputs": [],
   "source": [
    "n2c2_df = pd.read_csv('data/NER/2018_n2c2/test_200.csv')\n",
    "n2c2_example_df = pd.read_csv('data/NER/2018_n2c2/examples.csv')"
   ]
  },
  {
   "cell_type": "code",
   "execution_count": 65,
   "metadata": {},
   "outputs": [],
   "source": [
    "system_message = \"\"\"You are a helpful assistant to perform the following task.\n",
    "\"TASK: the task is to extract disease entities in a sentence. The entity type includes Form, Route, Frequency, Dosage, Strength, Duration, Reason, Ade, Drug.\"\n",
    "\"INPUT: the input is a sentence.\"\n",
    "\"OUTPUT: the output is an HTML that highlights all the disease entities in the sentence in different colors: Form(#FF0000), Route(#FFA500), Frequency(#FFFF00), Dosage(#00FF00), Strength(#0000FF), Duration(#800080), Reason(#FFC0CB), Ade(#964B00), Drug(#808080) in hex code. The highlighting should only use HTML tags <span style=\\\"background-color: #XXXXXX\\\"> and </span> and no other tags.\"\n",
    "\"\"\"\n",
    "def get_ner_2018_n2c2(sentence: str, shot: int = 0) -> str:\n",
    "    \"\"\"\n",
    "    Get the NER results of 2018 n2c2 dataset from few-shot prompting.\n",
    "    Args:\n",
    "        sentence: the input sentence\n",
    "        shot: the number of few-shot examples\n",
    "    Returns:\n",
    "        the NER results\n",
    "    \"\"\"\n",
    "    \n",
    "    # system prompt\n",
    "    history = [\n",
    "        Content(role=\"user\", parts=[Part.from_text(system_message)]),\n",
    "        Content(role=\"model\", parts=[Part.from_text(\"Understood.\")])\n",
    "    ]\n",
    "    for i in range(shot):\n",
    "        history.extend([\n",
    "            Content(role=\"user\", parts=[Part.from_text(n2c2_example_df.iloc[i]['text'])]),\n",
    "            Content(role=\"model\", parts=[Part.from_text(n2c2_example_df.iloc[i]['label_text'])]) \n",
    "        ])\n",
    "\n",
    "    # Init a new chat session\n",
    "    chat = chat_model.start_chat(history=history)\n",
    "\n",
    "    time_start = time.time()\n",
    "    response = chat.send_message(\n",
    "        sentence,\n",
    "        generation_config=config,\n",
    "        safety_settings=safety_settings,\n",
    "        stream=False,\n",
    "    )\n",
    "    time_end = time.time()\n",
    "\n",
    "    return response.text, time_end - time_start"
   ]
  },
  {
   "cell_type": "code",
   "execution_count": null,
   "metadata": {},
   "outputs": [],
   "source": [
    "for i in tqdm(range(0, len(n2c2_df), 1)):\n",
    "    if (i + 1) % 15 == 0: # Gemini API has a quota limit\n",
    "        time.sleep(65)\n",
    "    n2c2_df.loc[i, 'html_gemini_pro_one_shot'], n2c2_df.loc[i, 'gemini_pro_one_shot_time'] = get_ner_2018_n2c2(n2c2_df.loc[i, 'text'], 1)\n",
    "    n2c2_df.loc[i, 'html_gemini_pro_five_shot'], n2c2_df.loc[i, 'gemini_pro_five_shot_time'] = get_ner_2018_n2c2(n2c2_df.loc[i, 'text'], 5)\n",
    "    n2c2_df.loc[i, 'html_gemini_pro_ten_shot'], n2c2_df.loc[i, 'gemini_pro_ten_shot_time'] = get_ner_2018_n2c2(n2c2_df.loc[i, 'text'], 10)\n",
    "    n2c2_df.loc[i, 'html_gemini_pro_twenty_shot'], n2c2_df.loc[i, 'gemini_pro_twenty_shot_time'] = get_ner_2018_n2c2(n2c2_df.loc[i, 'text'], 20)"
   ]
  },
  {
   "cell_type": "markdown",
   "metadata": {},
   "source": [
    "### 1.2.2 Evaluation"
   ]
  },
  {
   "cell_type": "code",
   "execution_count": null,
   "metadata": {},
   "outputs": [],
   "source": [
    "# Optional: you can just load the llm output from the csv file instead of running the above code\n",
    "# n2c2_df = pd.read_csv(\"data/NER/2018_n2c2/test_200_gemini_pro_results.csv\")"
   ]
  },
  {
   "cell_type": "code",
   "execution_count": 67,
   "metadata": {},
   "outputs": [],
   "source": [
    "n2c2_df['gt_labels'], n2c2_df['genimi_pro_one_shot_labels'] = html_parsing_n2c2(n2c2_df, 'html_gemini_pro_one_shot')\n",
    "_, n2c2_df['gemini_pro_five_shot_labels'] = html_parsing_n2c2(n2c2_df, 'html_gemini_pro_five_shot')\n",
    "_, n2c2_df['gemini_pro_ten_shot_labels'] = html_parsing_n2c2(n2c2_df, 'html_gemini_pro_ten_shot')\n",
    "_, n2c2_df['gemini_pro_twenty_shot_labels'] = html_parsing_n2c2(n2c2_df, 'html_gemini_pro_twenty_shot')"
   ]
  },
  {
   "cell_type": "code",
   "execution_count": 78,
   "metadata": {},
   "outputs": [
    {
     "name": "stdout",
     "output_type": "stream",
     "text": [
      "F1 Score One Shot (Strict): 0.23317316663015586\n",
      "F1 Score Five Shot (Strict): 0.4421635785671199\n",
      "F1 Score Ten Shot (Strict): 0.5049045701653464\n",
      "F1 Score Twenty Shot (Strict): 0.5661715078264877\n"
     ]
    }
   ],
   "source": [
    "print(f\"F1 Score One Shot (Strict): {get_macro_average_f1(get_classification_report(n2c2_df, 'gt_labels', 'genimi_pro_one_shot_labels', 'strict'))}\")\n",
    "print(f\"F1 Score Five Shot (Strict): {get_macro_average_f1(get_classification_report(n2c2_df, 'gt_labels', 'gemini_pro_five_shot_labels', 'strict'))}\")\n",
    "print(f\"F1 Score Ten Shot (Strict): {get_macro_average_f1(get_classification_report(n2c2_df, 'gt_labels', 'gemini_pro_ten_shot_labels', 'strict'))}\")\n",
    "print(f\"F1 Score Twenty Shot (Strict): {get_macro_average_f1(get_classification_report(n2c2_df, 'gt_labels', 'gemini_pro_twenty_shot_labels', 'strict'))}\")"
   ]
  },
  {
   "cell_type": "code",
   "execution_count": 79,
   "metadata": {},
   "outputs": [
    {
     "name": "stdout",
     "output_type": "stream",
     "text": [
      "F1 Score One Shot (Lenient): 0.3443192195776736\n",
      "F1 Score Five Shot (Lenient): 0.5711306844055251\n",
      "F1 Score Ten Shot (Lenient): 0.6482713143251391\n",
      "F1 Score Twenty Shot (Lenient): 0.694603986327699\n"
     ]
    }
   ],
   "source": [
    "print(f\"F1 Score One Shot (Lenient): {get_macro_average_f1(get_classification_report(n2c2_df, 'gt_labels', 'genimi_pro_one_shot_labels', 'lenient'))}\")\n",
    "print(f\"F1 Score Five Shot (Lenient): {get_macro_average_f1(get_classification_report(n2c2_df, 'gt_labels', 'gemini_pro_five_shot_labels', 'lenient'))}\")\n",
    "print(f\"F1 Score Ten Shot (Lenient): {get_macro_average_f1(get_classification_report(n2c2_df, 'gt_labels', 'gemini_pro_ten_shot_labels', 'lenient'))}\")\n",
    "print(f\"F1 Score Twenty Shot (Lenient): {get_macro_average_f1(get_classification_report(n2c2_df, 'gt_labels', 'gemini_pro_twenty_shot_labels', 'lenient'))}\")"
   ]
  },
  {
   "cell_type": "code",
   "execution_count": 80,
   "metadata": {},
   "outputs": [
    {
     "name": "stdout",
     "output_type": "stream",
     "text": [
      "Average Gemini Pro one-shot prediction time: 1.73 seconds\n",
      "Average Gemini Pro five-shot prediction time: 2.30 seconds\n",
      "Average Gemini Pro ten-shot prediction time: 2.11 seconds\n",
      "Average Gemini Pro twenty-shot prediction time: 2.85 seconds\n"
     ]
    }
   ],
   "source": [
    "print(f\"Average Gemini Pro one-shot prediction time: {n2c2_df['gemini_pro_one_shot_time'].mean():.2f} seconds\")\n",
    "print(f\"Average Gemini Pro five-shot prediction time: {n2c2_df['gemini_pro_five_shot_time'].mean():.2f} seconds\")\n",
    "print(f\"Average Gemini Pro ten-shot prediction time: {n2c2_df['gemini_pro_ten_shot_time'].mean():.2f} seconds\")\n",
    "print(f\"Average Gemini Pro twenty-shot prediction time: {n2c2_df['gemini_pro_twenty_shot_time'].mean():.2f} seconds\")"
   ]
  },
  {
   "cell_type": "code",
   "execution_count": 81,
   "metadata": {},
   "outputs": [],
   "source": [
    "# save the inference results\n",
    "n2c2_df.to_csv('data/NER/2018_n2c2/test_200_gemini_pro_results.csv', index=False)"
   ]
  },
  {
   "cell_type": "markdown",
   "metadata": {},
   "source": [
    "# 2. RE (Relation Extraction)"
   ]
  },
  {
   "cell_type": "markdown",
   "metadata": {},
   "source": [
    "## 2.1 2018 n2c2 Dataset"
   ]
  },
  {
   "cell_type": "markdown",
   "metadata": {},
   "source": [
    "### 2.1.1 Infernece"
   ]
  },
  {
   "cell_type": "code",
   "execution_count": 83,
   "metadata": {},
   "outputs": [],
   "source": [
    "n2c2_df = pd.read_csv('data/RE/2018_n2c2/test_200.csv')\n",
    "n2c2_example_df = pd.read_csv('data/RE/2018_n2c2/examples.csv')"
   ]
  },
  {
   "cell_type": "code",
   "execution_count": 85,
   "metadata": {},
   "outputs": [],
   "source": [
    "system_message = \"\"\"You are a helpful assistant to perform the following task.\n",
    "\"TASK: the task is to classify relations for a sentence.\"\n",
    "\"INPUT: the input is a sentence where the entities are labeled within [E${X}] and [E${X}/] in a sentence, where X is an integer representing an unique entity.\"\n",
    "\"OUTPUT: your task is to select one out of the nine types of relations ('STRENGTH-DRUG', 'ROUTE-DRUG', 'FREQUENCY-DRUG', 'FORM-DRUG', 'DOSAGE-DRUG', 'REASON-DRUG', 'DURATION-DRUG', 'ADE-DRUG', and 'No relation').\"\n",
    "\"\"\"\n",
    "def get_re_2018_n2c2(sentence: str, shot: int = 0) -> str:\n",
    "    \"\"\"\n",
    "    Get the RE results of 2018 n2c2 dataset from few-shot prompting.\n",
    "    Args:\n",
    "        sentence: the input sentence\n",
    "        shot: the number of few-shot examples\n",
    "    Returns:\n",
    "        the RE results\n",
    "    \"\"\"\n",
    "    \n",
    "    # system prompt\n",
    "    history = [\n",
    "        Content(role=\"user\", parts=[Part.from_text(system_message)]),\n",
    "        Content(role=\"model\", parts=[Part.from_text(\"Understood.\")])\n",
    "    ]\n",
    "    for i in range(shot):\n",
    "        history.extend([\n",
    "            Content(role=\"user\", parts=[Part.from_text(n2c2_example_df.iloc[i]['text'])]),\n",
    "            Content(role=\"model\", parts=[Part.from_text(n2c2_example_df.iloc[i]['labels'])]) \n",
    "        ])\n",
    "\n",
    "    # Init a new chat session\n",
    "    chat = chat_model.start_chat(history=history)\n",
    "\n",
    "    time_start = time.time()\n",
    "    response = chat.send_message(\n",
    "        sentence,\n",
    "        generation_config=config,\n",
    "        safety_settings=safety_settings,\n",
    "        stream=False,\n",
    "    )\n",
    "    time_end = time.time()\n",
    "\n",
    "    return response.text, time_end - time_start"
   ]
  },
  {
   "cell_type": "code",
   "execution_count": null,
   "metadata": {},
   "outputs": [],
   "source": [
    "for i in tqdm(range(0, len(n2c2_df), 1)):\n",
    "    if (i + 1) % 15 == 0: # Gemini API has a quota limit\n",
    "        time.sleep(65)\n",
    "    n2c2_df.loc[i, 'gemini_pro_one_shot'], n2c2_df.loc[i, 'gemini_pro_one_shot_time'] = get_re_2018_n2c2(n2c2_df.loc[i, 'text'], 1)\n",
    "    n2c2_df.loc[i, 'gemini_pro_five_shot'], n2c2_df.loc[i, 'gemini_pro_five_shot_time'] = get_re_2018_n2c2(n2c2_df.loc[i, 'text'], 5)\n",
    "    n2c2_df.loc[i, 'gemini_pro_ten_shot'], n2c2_df.loc[i, 'gemini_pro_ten_shot_time'] = get_re_2018_n2c2(n2c2_df.loc[i, 'text'], 10)\n",
    "    n2c2_df.loc[i, 'gemini_pro_twenty_shot'], n2c2_df.loc[i, 'gemini_pro_twenty_shot_time'] = get_re_2018_n2c2(n2c2_df.loc[i, 'text'], 20)"
   ]
  },
  {
   "cell_type": "markdown",
   "metadata": {},
   "source": [
    "### 2.1.2 Evaluation"
   ]
  },
  {
   "cell_type": "code",
   "execution_count": 93,
   "metadata": {},
   "outputs": [],
   "source": [
    "# get rid of ' ' if any\n",
    "n2c2_df['gemini_pro_one_shot'] = n2c2_df['gemini_pro_one_shot'].apply(lambda x: x[1:-1] if \"'\" in x else x)\n",
    "n2c2_df['gemini_pro_five_shot'] = n2c2_df['gemini_pro_five_shot'].apply(lambda x: x[1:-1] if \"'\" in x else x)\n",
    "n2c2_df['gemini_pro_ten_shot'] = n2c2_df['gemini_pro_ten_shot'].apply(lambda x: x[1:-1] if \"'\" in x else x)\n",
    "n2c2_df['gemini_pro_twenty_shot'] = n2c2_df['gemini_pro_twenty_shot'].apply(lambda x: x[1:-1] if \"'\" in x else x)"
   ]
  },
  {
   "cell_type": "code",
   "execution_count": 94,
   "metadata": {},
   "outputs": [],
   "source": [
    "# get digit label while considering failed LLM outputs as 'No relation'\n",
    "n2c2_df['labels'] = n2c2_df['labels'].apply(get_digit)\n",
    "n2c2_df['gemini_pro_one_shot_labels'] = n2c2_df['gemini_pro_one_shot'].apply(get_digit)\n",
    "n2c2_df['gemini_pro_five_shot_labels'] = n2c2_df['gemini_pro_five_shot'].apply(get_digit)\n",
    "n2c2_df['gemini_pro_ten_shot_labels'] = n2c2_df['gemini_pro_ten_shot'].apply(get_digit)\n",
    "n2c2_df['gemini_pro_twenty_shot_labels'] = n2c2_df['gemini_pro_twenty_shot'].apply(get_digit)"
   ]
  },
  {
   "cell_type": "code",
   "execution_count": 95,
   "metadata": {},
   "outputs": [],
   "source": [
    "# Optional: you can just load the llm output from the csv file instead of running the above code\n",
    "# n2c2_df = pd.read_csv(\"data/RE/2018_n2c2/test_200_gemini_pro_results.csv\")"
   ]
  },
  {
   "cell_type": "code",
   "execution_count": 112,
   "metadata": {},
   "outputs": [
    {
     "name": "stdout",
     "output_type": "stream",
     "text": [
      "F1 Score One Shot: 0.21323799601174073\n",
      "F1 Score Five Shot: 0.2757285615539049\n",
      "F1 Score Ten Shot: 0.30601313216234705\n",
      "F1 Score Twenty Shot: 0.4119489003723716\n"
     ]
    }
   ],
   "source": [
    "y_true = n2c2_df['labels'].tolist()\n",
    "y_pred = n2c2_df['gemini_pro_one_shot_labels'].tolist()\n",
    "print(f\"F1 Score One Shot: {f1_score(y_true, y_pred, average='macro')}\")\n",
    "y_pred = n2c2_df['gemini_pro_five_shot_labels'].tolist()\n",
    "print(f\"F1 Score Five Shot: {f1_score(y_true, y_pred, average='macro')}\")\n",
    "y_pred = n2c2_df['gemini_pro_ten_shot_labels'].tolist()\n",
    "print(f\"F1 Score Ten Shot: {f1_score(y_true, y_pred, average='macro')}\")\n",
    "y_pred = n2c2_df['gemini_pro_twenty_shot_labels'].tolist()\n",
    "print(f\"F1 Score Twenty Shot: {f1_score(y_true, y_pred, average='macro')}\")"
   ]
  },
  {
   "cell_type": "code",
   "execution_count": 113,
   "metadata": {},
   "outputs": [
    {
     "name": "stdout",
     "output_type": "stream",
     "text": [
      "Average Gemini Pro one-shot prediction time: 0.40 seconds\n",
      "Average Gemini Pro five-shot prediction time: 0.44 seconds\n",
      "Average Gemini Pro ten-shot prediction time: 0.46 seconds\n",
      "Average Gemini Pro twenty-shot prediction time: 0.55 seconds\n"
     ]
    }
   ],
   "source": [
    "print(f\"Average Gemini Pro one-shot prediction time: {n2c2_df['gemini_pro_one_shot_time'].mean():.2f} seconds\")\n",
    "print(f\"Average Gemini Pro five-shot prediction time: {n2c2_df['gemini_pro_five_shot_time'].mean():.2f} seconds\")\n",
    "print(f\"Average Gemini Pro ten-shot prediction time: {n2c2_df['gemini_pro_ten_shot_time'].mean():.2f} seconds\")\n",
    "print(f\"Average Gemini Pro twenty-shot prediction time: {n2c2_df['gemini_pro_twenty_shot_time'].mean():.2f} seconds\")"
   ]
  },
  {
   "cell_type": "code",
   "execution_count": 114,
   "metadata": {},
   "outputs": [],
   "source": [
    "# save the inference results\n",
    "n2c2_df.to_csv('data/RE/2018_n2c2/test_200_gemini_pro_results.csv', index=False)"
   ]
  },
  {
   "cell_type": "markdown",
   "metadata": {},
   "source": [
    "## 2.2 GAD"
   ]
  },
  {
   "cell_type": "markdown",
   "metadata": {},
   "source": [
    "### 2.2.1 Inference"
   ]
  },
  {
   "cell_type": "code",
   "execution_count": 134,
   "metadata": {},
   "outputs": [],
   "source": [
    "gad_df = pd.read_csv('data/RE/GAD/test_200.csv')\n",
    "gad_example_df = pd.read_csv('data/RE/GAD/examples.csv')"
   ]
  },
  {
   "cell_type": "code",
   "execution_count": 135,
   "metadata": {},
   "outputs": [],
   "source": [
    "system_message = \"\"\"You are a helpful assistant to perform the following task.\n",
    "\"TASK: the task is to classify relations between a disease and a gene for a sentence.\"\n",
    "\"INPUT: the input is a sentence where the disease is labeled as @DISEASE$ and the gene is labeled as @GENE$ accordingly in a sentence. \"\n",
    "\"OUTPUT: your task is to select one out of the two types of relations (0 and 1) for the gene and disease without any explanation or other characters: \n",
    "0, no relations \n",
    "1, has relations\"\n",
    "\"\"\"\n",
    "def get_re_gad(sentence: str, shot: int = 0) -> str:\n",
    "    \"\"\"\n",
    "    Get the RE results of GAD dataset from few-shot prompting.\n",
    "    Args:\n",
    "        sentence: the input sentence\n",
    "        shot: the number of few-shot examples\n",
    "    Returns:\n",
    "        the RE results\n",
    "    \"\"\"\n",
    "\n",
    "    # system prompt\n",
    "    history = [\n",
    "        Content(role=\"user\", parts=[Part.from_text(system_message)]),\n",
    "        Content(role=\"model\", parts=[Part.from_text(\"Understood.\")])\n",
    "    ]\n",
    "    for i in range(shot):\n",
    "        history.extend([\n",
    "            Content(role=\"user\", parts=[Part.from_text(gad_example_df.iloc[i]['text'])]),\n",
    "            Content(role=\"model\", parts=[Part.from_text(str(gad_example_df.iloc[i]['labels']))]) \n",
    "        ])\n",
    "\n",
    "    # Init a new chat session\n",
    "    chat = chat_model.start_chat(history=history)\n",
    "\n",
    "    time_start = time.time()\n",
    "    response = chat.send_message(\n",
    "        sentence,\n",
    "        generation_config=config,\n",
    "        safety_settings=safety_settings,\n",
    "        stream=False,\n",
    "    )\n",
    "    time_end = time.time()\n",
    "\n",
    "    return response.text, time_end - time_start"
   ]
  },
  {
   "cell_type": "code",
   "execution_count": null,
   "metadata": {},
   "outputs": [],
   "source": [
    "for i in tqdm(range(0, len(gad_df), 1)):\n",
    "    if (i + 1) % 15 == 0: # Gemini API has a quota limit\n",
    "        time.sleep(65)\n",
    "    gad_df.loc[i, 'gemini_pro_one_shot'], gad_df.loc[i, 'gemini_pro_one_shot_time'] = get_re_gad(gad_df.iloc[i]['text'], 1)\n",
    "    gad_df.loc[i, 'gemini_pro_five_shot'], gad_df.loc[i, 'gemini_pro_five_shot_time'] = get_re_gad(gad_df.iloc[i]['text'], 5)\n",
    "    gad_df.loc[i, 'gemini_pro_ten_shot'], gad_df.loc[i, 'gemini_pro_ten_shot_time'] = get_re_gad(gad_df.iloc[i]['text'], 10)\n",
    "    gad_df.loc[i, 'gemini_pro_twenty_shot'], gad_df.loc[i, 'gemini_pro_twenty_shot_time'] = get_re_gad(gad_df.iloc[i]['text'], 20)"
   ]
  },
  {
   "cell_type": "markdown",
   "metadata": {},
   "source": [
    "### 2.2.2 Evaluation"
   ]
  },
  {
   "cell_type": "code",
   "execution_count": 125,
   "metadata": {},
   "outputs": [],
   "source": [
    "# convert some strings to int while considering failed LLM outputs as 'No relation (0)'\n",
    "gad_df['gemini_pro_one_shot'] = gad_df['gemini_pro_one_shot'].apply(lambda x: int(x) if x.isdigit() else 0)\n",
    "gad_df['gemini_pro_five_shot'] = gad_df['gemini_pro_five_shot'].apply(lambda x: int(x) if x.isdigit() else 0)\n",
    "gad_df['gemini_pro_ten_shot'] = gad_df['gemini_pro_ten_shot'].apply(lambda x: int(x) if x.isdigit() else 0)\n",
    "gad_df['gemini_pro_twenty_shot'] = gad_df['gemini_pro_twenty_shot'].apply(lambda x: int(x) if x.isdigit() else 0)"
   ]
  },
  {
   "cell_type": "code",
   "execution_count": 126,
   "metadata": {},
   "outputs": [],
   "source": [
    "# Optional: you can just load the llm output from the csv file instead of running the above code\n",
    "# gad_df = pd.read_csv(\"data/RE/GAD/test_200_gemini_pro_results.csv\")"
   ]
  },
  {
   "cell_type": "code",
   "execution_count": 127,
   "metadata": {},
   "outputs": [
    {
     "name": "stdout",
     "output_type": "stream",
     "text": [
      "F1 Score One Shot: 0.4600403659143928\n",
      "F1 Score Five Shot: 0.4615140956604371\n",
      "F1 Score Ten Shot: 0.5416887008637405\n",
      "F1 Score Twenty Shot: 0.513307205614898\n"
     ]
    }
   ],
   "source": [
    "y_true = gad_df['labels'].tolist()\n",
    "y_pred = gad_df['gemini_pro_one_shot'].tolist()\n",
    "print(f\"F1 Score One Shot: {f1_score(y_true, y_pred, average='macro')}\")\n",
    "y_pred = gad_df['gemini_pro_five_shot'].tolist()\n",
    "print(f\"F1 Score Five Shot: {f1_score(y_true, y_pred, average='macro')}\")\n",
    "y_pred = gad_df['gemini_pro_ten_shot'].tolist()\n",
    "print(f\"F1 Score Ten Shot: {f1_score(y_true, y_pred, average='macro')}\")\n",
    "y_pred = gad_df['gemini_pro_twenty_shot'].tolist()\n",
    "print(f\"F1 Score Twenty Shot: {f1_score(y_true, y_pred, average='macro')}\")"
   ]
  },
  {
   "cell_type": "code",
   "execution_count": 128,
   "metadata": {},
   "outputs": [
    {
     "name": "stdout",
     "output_type": "stream",
     "text": [
      "Average Gemini Pro one-shot prediction time: 0.34 seconds\n",
      "Average Gemini Pro five-shot prediction time: 0.33 seconds\n",
      "Average Gemini Pro ten-shot prediction time: 0.40 seconds\n",
      "Average Gemini Pro twenty-shot prediction time: 0.50 seconds\n"
     ]
    }
   ],
   "source": [
    "print(f\"Average Gemini Pro one-shot prediction time: {gad_df['gemini_pro_one_shot_time'].mean():.2f} seconds\")\n",
    "print(f\"Average Gemini Pro five-shot prediction time: {gad_df['gemini_pro_five_shot_time'].mean():.2f} seconds\")\n",
    "print(f\"Average Gemini Pro ten-shot prediction time: {gad_df['gemini_pro_ten_shot_time'].mean():.2f} seconds\")\n",
    "print(f\"Average Gemini Pro twenty-shot prediction time: {gad_df['gemini_pro_twenty_shot_time'].mean():.2f} seconds\")"
   ]
  },
  {
   "cell_type": "code",
   "execution_count": 129,
   "metadata": {},
   "outputs": [],
   "source": [
    "# save the inference results\n",
    "gad_df.to_csv('data/RE/GAD/test_200_gemini_pro_results.csv', index=False)"
   ]
  }
 ],
 "metadata": {
  "kernelspec": {
   "display_name": "base",
   "language": "python",
   "name": "python3"
  },
  "language_info": {
   "codemirror_mode": {
    "name": "ipython",
    "version": 3
   },
   "file_extension": ".py",
   "mimetype": "text/x-python",
   "name": "python",
   "nbconvert_exporter": "python",
   "pygments_lexer": "ipython3",
   "version": "3.10.9"
  }
 },
 "nbformat": 4,
 "nbformat_minor": 2
}
